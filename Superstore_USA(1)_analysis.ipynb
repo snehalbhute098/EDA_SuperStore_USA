{
 "cells": [
  {
   "cell_type": "markdown",
   "id": "a6d31fec",
   "metadata": {},
   "source": [
    "# EDA on superstore analysis using python "
   ]
  },
  {
   "cell_type": "code",
   "execution_count": 43,
   "id": "62155ac7",
   "metadata": {},
   "outputs": [],
   "source": [
    "import pandas as pd\n",
    "import numpy as np\n",
    "import matplotlib.pyplot as plt\n",
    "import seaborn as sns"
   ]
  },
  {
   "cell_type": "markdown",
   "id": "221706b9",
   "metadata": {},
   "source": [
    "# Import of dataset "
   ]
  },
  {
   "cell_type": "code",
   "execution_count": 2,
   "id": "60f307af",
   "metadata": {},
   "outputs": [],
   "source": [
    "dataset=pd.read_excel('Superstore_USA.xlsx')"
   ]
  },
  {
   "cell_type": "markdown",
   "id": "91d20bb8",
   "metadata": {},
   "source": [
    "# View of data"
   ]
  },
  {
   "cell_type": "code",
   "execution_count": 3,
   "id": "a3b95aa7",
   "metadata": {},
   "outputs": [
    {
     "data": {
      "text/html": [
       "<div>\n",
       "<style scoped>\n",
       "    .dataframe tbody tr th:only-of-type {\n",
       "        vertical-align: middle;\n",
       "    }\n",
       "\n",
       "    .dataframe tbody tr th {\n",
       "        vertical-align: top;\n",
       "    }\n",
       "\n",
       "    .dataframe thead th {\n",
       "        text-align: right;\n",
       "    }\n",
       "</style>\n",
       "<table border=\"1\" class=\"dataframe\">\n",
       "  <thead>\n",
       "    <tr style=\"text-align: right;\">\n",
       "      <th></th>\n",
       "      <th>Row ID</th>\n",
       "      <th>Order Priority</th>\n",
       "      <th>Discount</th>\n",
       "      <th>Unit Price</th>\n",
       "      <th>Shipping Cost</th>\n",
       "      <th>Customer ID</th>\n",
       "      <th>Customer Name</th>\n",
       "      <th>Ship Mode</th>\n",
       "      <th>Customer Segment</th>\n",
       "      <th>Product Category</th>\n",
       "      <th>...</th>\n",
       "      <th>Region</th>\n",
       "      <th>State or Province</th>\n",
       "      <th>City</th>\n",
       "      <th>Postal Code</th>\n",
       "      <th>Order Date</th>\n",
       "      <th>Ship Date</th>\n",
       "      <th>Profit</th>\n",
       "      <th>Quantity ordered new</th>\n",
       "      <th>Sales</th>\n",
       "      <th>Order ID</th>\n",
       "    </tr>\n",
       "  </thead>\n",
       "  <tbody>\n",
       "    <tr>\n",
       "      <th>0</th>\n",
       "      <td>18606</td>\n",
       "      <td>Not Specified</td>\n",
       "      <td>0.01</td>\n",
       "      <td>2.88</td>\n",
       "      <td>0.50</td>\n",
       "      <td>2</td>\n",
       "      <td>Janice Fletcher</td>\n",
       "      <td>Regular Air</td>\n",
       "      <td>Corporate</td>\n",
       "      <td>Office Supplies</td>\n",
       "      <td>...</td>\n",
       "      <td>Central</td>\n",
       "      <td>Illinois</td>\n",
       "      <td>Addison</td>\n",
       "      <td>60101</td>\n",
       "      <td>2012-05-28</td>\n",
       "      <td>2012-05-30</td>\n",
       "      <td>1.320000</td>\n",
       "      <td>2</td>\n",
       "      <td>5.90</td>\n",
       "      <td>88525</td>\n",
       "    </tr>\n",
       "    <tr>\n",
       "      <th>1</th>\n",
       "      <td>20847</td>\n",
       "      <td>High</td>\n",
       "      <td>0.01</td>\n",
       "      <td>2.84</td>\n",
       "      <td>0.93</td>\n",
       "      <td>3</td>\n",
       "      <td>Bonnie Potter</td>\n",
       "      <td>Express Air</td>\n",
       "      <td>Corporate</td>\n",
       "      <td>Office Supplies</td>\n",
       "      <td>...</td>\n",
       "      <td>West</td>\n",
       "      <td>Washington</td>\n",
       "      <td>Anacortes</td>\n",
       "      <td>98221</td>\n",
       "      <td>2010-07-07</td>\n",
       "      <td>2010-07-08</td>\n",
       "      <td>4.560000</td>\n",
       "      <td>4</td>\n",
       "      <td>13.01</td>\n",
       "      <td>88522</td>\n",
       "    </tr>\n",
       "    <tr>\n",
       "      <th>2</th>\n",
       "      <td>23086</td>\n",
       "      <td>Not Specified</td>\n",
       "      <td>0.03</td>\n",
       "      <td>6.68</td>\n",
       "      <td>6.15</td>\n",
       "      <td>3</td>\n",
       "      <td>Bonnie Potter</td>\n",
       "      <td>Express Air</td>\n",
       "      <td>Corporate</td>\n",
       "      <td>Office Supplies</td>\n",
       "      <td>...</td>\n",
       "      <td>West</td>\n",
       "      <td>Washington</td>\n",
       "      <td>Anacortes</td>\n",
       "      <td>98221</td>\n",
       "      <td>2011-07-27</td>\n",
       "      <td>2011-07-28</td>\n",
       "      <td>-47.640000</td>\n",
       "      <td>7</td>\n",
       "      <td>49.92</td>\n",
       "      <td>88523</td>\n",
       "    </tr>\n",
       "    <tr>\n",
       "      <th>3</th>\n",
       "      <td>23087</td>\n",
       "      <td>Not Specified</td>\n",
       "      <td>0.01</td>\n",
       "      <td>5.68</td>\n",
       "      <td>3.60</td>\n",
       "      <td>3</td>\n",
       "      <td>Bonnie Potter</td>\n",
       "      <td>Regular Air</td>\n",
       "      <td>Corporate</td>\n",
       "      <td>Office Supplies</td>\n",
       "      <td>...</td>\n",
       "      <td>West</td>\n",
       "      <td>Washington</td>\n",
       "      <td>Anacortes</td>\n",
       "      <td>98221</td>\n",
       "      <td>2011-07-27</td>\n",
       "      <td>2011-07-28</td>\n",
       "      <td>-30.510000</td>\n",
       "      <td>7</td>\n",
       "      <td>41.64</td>\n",
       "      <td>88523</td>\n",
       "    </tr>\n",
       "    <tr>\n",
       "      <th>4</th>\n",
       "      <td>23088</td>\n",
       "      <td>Not Specified</td>\n",
       "      <td>0.00</td>\n",
       "      <td>205.99</td>\n",
       "      <td>2.50</td>\n",
       "      <td>3</td>\n",
       "      <td>Bonnie Potter</td>\n",
       "      <td>Express Air</td>\n",
       "      <td>Corporate</td>\n",
       "      <td>Technology</td>\n",
       "      <td>...</td>\n",
       "      <td>West</td>\n",
       "      <td>Washington</td>\n",
       "      <td>Anacortes</td>\n",
       "      <td>98221</td>\n",
       "      <td>2011-07-27</td>\n",
       "      <td>2011-07-27</td>\n",
       "      <td>998.202300</td>\n",
       "      <td>8</td>\n",
       "      <td>1446.67</td>\n",
       "      <td>88523</td>\n",
       "    </tr>\n",
       "    <tr>\n",
       "      <th>...</th>\n",
       "      <td>...</td>\n",
       "      <td>...</td>\n",
       "      <td>...</td>\n",
       "      <td>...</td>\n",
       "      <td>...</td>\n",
       "      <td>...</td>\n",
       "      <td>...</td>\n",
       "      <td>...</td>\n",
       "      <td>...</td>\n",
       "      <td>...</td>\n",
       "      <td>...</td>\n",
       "      <td>...</td>\n",
       "      <td>...</td>\n",
       "      <td>...</td>\n",
       "      <td>...</td>\n",
       "      <td>...</td>\n",
       "      <td>...</td>\n",
       "      <td>...</td>\n",
       "      <td>...</td>\n",
       "      <td>...</td>\n",
       "      <td>...</td>\n",
       "    </tr>\n",
       "    <tr>\n",
       "      <th>9421</th>\n",
       "      <td>20275</td>\n",
       "      <td>Critical</td>\n",
       "      <td>0.06</td>\n",
       "      <td>35.89</td>\n",
       "      <td>14.72</td>\n",
       "      <td>3402</td>\n",
       "      <td>Frederick Cole</td>\n",
       "      <td>Regular Air</td>\n",
       "      <td>Consumer</td>\n",
       "      <td>Office Supplies</td>\n",
       "      <td>...</td>\n",
       "      <td>East</td>\n",
       "      <td>West Virginia</td>\n",
       "      <td>Charleston</td>\n",
       "      <td>25314</td>\n",
       "      <td>2013-05-14</td>\n",
       "      <td>2013-05-15</td>\n",
       "      <td>137.860000</td>\n",
       "      <td>13</td>\n",
       "      <td>447.87</td>\n",
       "      <td>87532</td>\n",
       "    </tr>\n",
       "    <tr>\n",
       "      <th>9422</th>\n",
       "      <td>20276</td>\n",
       "      <td>Critical</td>\n",
       "      <td>0.00</td>\n",
       "      <td>3.34</td>\n",
       "      <td>7.49</td>\n",
       "      <td>3402</td>\n",
       "      <td>Frederick Cole</td>\n",
       "      <td>Regular Air</td>\n",
       "      <td>Consumer</td>\n",
       "      <td>Office Supplies</td>\n",
       "      <td>...</td>\n",
       "      <td>East</td>\n",
       "      <td>West Virginia</td>\n",
       "      <td>Charleston</td>\n",
       "      <td>25314</td>\n",
       "      <td>2013-05-14</td>\n",
       "      <td>2013-05-14</td>\n",
       "      <td>-39.070000</td>\n",
       "      <td>3</td>\n",
       "      <td>13.23</td>\n",
       "      <td>87532</td>\n",
       "    </tr>\n",
       "    <tr>\n",
       "      <th>9423</th>\n",
       "      <td>24491</td>\n",
       "      <td>Not Specified</td>\n",
       "      <td>0.08</td>\n",
       "      <td>550.98</td>\n",
       "      <td>45.70</td>\n",
       "      <td>3402</td>\n",
       "      <td>Frederick Cole</td>\n",
       "      <td>Delivery Truck</td>\n",
       "      <td>Consumer</td>\n",
       "      <td>Furniture</td>\n",
       "      <td>...</td>\n",
       "      <td>East</td>\n",
       "      <td>West Virginia</td>\n",
       "      <td>Charleston</td>\n",
       "      <td>25314</td>\n",
       "      <td>2013-09-12</td>\n",
       "      <td>2013-09-14</td>\n",
       "      <td>-1225.029097</td>\n",
       "      <td>4</td>\n",
       "      <td>2215.93</td>\n",
       "      <td>87533</td>\n",
       "    </tr>\n",
       "    <tr>\n",
       "      <th>9424</th>\n",
       "      <td>25914</td>\n",
       "      <td>High</td>\n",
       "      <td>0.10</td>\n",
       "      <td>105.98</td>\n",
       "      <td>13.99</td>\n",
       "      <td>3403</td>\n",
       "      <td>Tammy Buckley</td>\n",
       "      <td>Express Air</td>\n",
       "      <td>Consumer</td>\n",
       "      <td>Furniture</td>\n",
       "      <td>...</td>\n",
       "      <td>West</td>\n",
       "      <td>Wyoming</td>\n",
       "      <td>Cheyenne</td>\n",
       "      <td>82001</td>\n",
       "      <td>2010-02-08</td>\n",
       "      <td>2010-02-11</td>\n",
       "      <td>349.485000</td>\n",
       "      <td>5</td>\n",
       "      <td>506.50</td>\n",
       "      <td>87530</td>\n",
       "    </tr>\n",
       "    <tr>\n",
       "      <th>9425</th>\n",
       "      <td>24492</td>\n",
       "      <td>Not Specified</td>\n",
       "      <td>0.09</td>\n",
       "      <td>7.78</td>\n",
       "      <td>2.50</td>\n",
       "      <td>3403</td>\n",
       "      <td>Tammy Buckley</td>\n",
       "      <td>Express Air</td>\n",
       "      <td>Consumer</td>\n",
       "      <td>Office Supplies</td>\n",
       "      <td>...</td>\n",
       "      <td>West</td>\n",
       "      <td>Wyoming</td>\n",
       "      <td>Cheyenne</td>\n",
       "      <td>82001</td>\n",
       "      <td>2013-09-12</td>\n",
       "      <td>2013-09-14</td>\n",
       "      <td>78.062400</td>\n",
       "      <td>23</td>\n",
       "      <td>172.48</td>\n",
       "      <td>87533</td>\n",
       "    </tr>\n",
       "  </tbody>\n",
       "</table>\n",
       "<p>9426 rows × 24 columns</p>\n",
       "</div>"
      ],
      "text/plain": [
       "      Row ID Order Priority  Discount  Unit Price  Shipping Cost  Customer ID  \\\n",
       "0      18606  Not Specified      0.01        2.88           0.50            2   \n",
       "1      20847           High      0.01        2.84           0.93            3   \n",
       "2      23086  Not Specified      0.03        6.68           6.15            3   \n",
       "3      23087  Not Specified      0.01        5.68           3.60            3   \n",
       "4      23088  Not Specified      0.00      205.99           2.50            3   \n",
       "...      ...            ...       ...         ...            ...          ...   \n",
       "9421   20275       Critical      0.06       35.89          14.72         3402   \n",
       "9422   20276       Critical      0.00        3.34           7.49         3402   \n",
       "9423   24491  Not Specified      0.08      550.98          45.70         3402   \n",
       "9424   25914           High      0.10      105.98          13.99         3403   \n",
       "9425   24492  Not Specified      0.09        7.78           2.50         3403   \n",
       "\n",
       "        Customer Name       Ship Mode Customer Segment Product Category  ...  \\\n",
       "0     Janice Fletcher     Regular Air        Corporate  Office Supplies  ...   \n",
       "1       Bonnie Potter     Express Air        Corporate  Office Supplies  ...   \n",
       "2       Bonnie Potter     Express Air        Corporate  Office Supplies  ...   \n",
       "3       Bonnie Potter     Regular Air        Corporate  Office Supplies  ...   \n",
       "4       Bonnie Potter     Express Air        Corporate       Technology  ...   \n",
       "...               ...             ...              ...              ...  ...   \n",
       "9421   Frederick Cole     Regular Air         Consumer  Office Supplies  ...   \n",
       "9422   Frederick Cole     Regular Air         Consumer  Office Supplies  ...   \n",
       "9423   Frederick Cole  Delivery Truck         Consumer        Furniture  ...   \n",
       "9424    Tammy Buckley     Express Air         Consumer        Furniture  ...   \n",
       "9425    Tammy Buckley     Express Air         Consumer  Office Supplies  ...   \n",
       "\n",
       "       Region State or Province        City  Postal Code Order Date  \\\n",
       "0     Central          Illinois     Addison        60101 2012-05-28   \n",
       "1        West        Washington   Anacortes        98221 2010-07-07   \n",
       "2        West        Washington   Anacortes        98221 2011-07-27   \n",
       "3        West        Washington   Anacortes        98221 2011-07-27   \n",
       "4        West        Washington   Anacortes        98221 2011-07-27   \n",
       "...       ...               ...         ...          ...        ...   \n",
       "9421     East     West Virginia  Charleston        25314 2013-05-14   \n",
       "9422     East     West Virginia  Charleston        25314 2013-05-14   \n",
       "9423     East     West Virginia  Charleston        25314 2013-09-12   \n",
       "9424     West           Wyoming    Cheyenne        82001 2010-02-08   \n",
       "9425     West           Wyoming    Cheyenne        82001 2013-09-12   \n",
       "\n",
       "      Ship Date       Profit  Quantity ordered new    Sales Order ID  \n",
       "0    2012-05-30     1.320000                     2     5.90    88525  \n",
       "1    2010-07-08     4.560000                     4    13.01    88522  \n",
       "2    2011-07-28   -47.640000                     7    49.92    88523  \n",
       "3    2011-07-28   -30.510000                     7    41.64    88523  \n",
       "4    2011-07-27   998.202300                     8  1446.67    88523  \n",
       "...         ...          ...                   ...      ...      ...  \n",
       "9421 2013-05-15   137.860000                    13   447.87    87532  \n",
       "9422 2013-05-14   -39.070000                     3    13.23    87532  \n",
       "9423 2013-09-14 -1225.029097                     4  2215.93    87533  \n",
       "9424 2010-02-11   349.485000                     5   506.50    87530  \n",
       "9425 2013-09-14    78.062400                    23   172.48    87533  \n",
       "\n",
       "[9426 rows x 24 columns]"
      ]
     },
     "execution_count": 3,
     "metadata": {},
     "output_type": "execute_result"
    }
   ],
   "source": [
    "dataset"
   ]
  },
  {
   "cell_type": "code",
   "execution_count": 4,
   "id": "98da0686",
   "metadata": {},
   "outputs": [
    {
     "data": {
      "text/html": [
       "<div>\n",
       "<style scoped>\n",
       "    .dataframe tbody tr th:only-of-type {\n",
       "        vertical-align: middle;\n",
       "    }\n",
       "\n",
       "    .dataframe tbody tr th {\n",
       "        vertical-align: top;\n",
       "    }\n",
       "\n",
       "    .dataframe thead th {\n",
       "        text-align: right;\n",
       "    }\n",
       "</style>\n",
       "<table border=\"1\" class=\"dataframe\">\n",
       "  <thead>\n",
       "    <tr style=\"text-align: right;\">\n",
       "      <th></th>\n",
       "      <th>Row ID</th>\n",
       "      <th>Order Priority</th>\n",
       "      <th>Discount</th>\n",
       "      <th>Unit Price</th>\n",
       "      <th>Shipping Cost</th>\n",
       "      <th>Customer ID</th>\n",
       "      <th>Customer Name</th>\n",
       "      <th>Ship Mode</th>\n",
       "      <th>Customer Segment</th>\n",
       "      <th>Product Category</th>\n",
       "      <th>...</th>\n",
       "      <th>Region</th>\n",
       "      <th>State or Province</th>\n",
       "      <th>City</th>\n",
       "      <th>Postal Code</th>\n",
       "      <th>Order Date</th>\n",
       "      <th>Ship Date</th>\n",
       "      <th>Profit</th>\n",
       "      <th>Quantity ordered new</th>\n",
       "      <th>Sales</th>\n",
       "      <th>Order ID</th>\n",
       "    </tr>\n",
       "  </thead>\n",
       "  <tbody>\n",
       "    <tr>\n",
       "      <th>0</th>\n",
       "      <td>18606</td>\n",
       "      <td>Not Specified</td>\n",
       "      <td>0.01</td>\n",
       "      <td>2.88</td>\n",
       "      <td>0.50</td>\n",
       "      <td>2</td>\n",
       "      <td>Janice Fletcher</td>\n",
       "      <td>Regular Air</td>\n",
       "      <td>Corporate</td>\n",
       "      <td>Office Supplies</td>\n",
       "      <td>...</td>\n",
       "      <td>Central</td>\n",
       "      <td>Illinois</td>\n",
       "      <td>Addison</td>\n",
       "      <td>60101</td>\n",
       "      <td>2012-05-28</td>\n",
       "      <td>2012-05-30</td>\n",
       "      <td>1.3200</td>\n",
       "      <td>2</td>\n",
       "      <td>5.90</td>\n",
       "      <td>88525</td>\n",
       "    </tr>\n",
       "    <tr>\n",
       "      <th>1</th>\n",
       "      <td>20847</td>\n",
       "      <td>High</td>\n",
       "      <td>0.01</td>\n",
       "      <td>2.84</td>\n",
       "      <td>0.93</td>\n",
       "      <td>3</td>\n",
       "      <td>Bonnie Potter</td>\n",
       "      <td>Express Air</td>\n",
       "      <td>Corporate</td>\n",
       "      <td>Office Supplies</td>\n",
       "      <td>...</td>\n",
       "      <td>West</td>\n",
       "      <td>Washington</td>\n",
       "      <td>Anacortes</td>\n",
       "      <td>98221</td>\n",
       "      <td>2010-07-07</td>\n",
       "      <td>2010-07-08</td>\n",
       "      <td>4.5600</td>\n",
       "      <td>4</td>\n",
       "      <td>13.01</td>\n",
       "      <td>88522</td>\n",
       "    </tr>\n",
       "    <tr>\n",
       "      <th>2</th>\n",
       "      <td>23086</td>\n",
       "      <td>Not Specified</td>\n",
       "      <td>0.03</td>\n",
       "      <td>6.68</td>\n",
       "      <td>6.15</td>\n",
       "      <td>3</td>\n",
       "      <td>Bonnie Potter</td>\n",
       "      <td>Express Air</td>\n",
       "      <td>Corporate</td>\n",
       "      <td>Office Supplies</td>\n",
       "      <td>...</td>\n",
       "      <td>West</td>\n",
       "      <td>Washington</td>\n",
       "      <td>Anacortes</td>\n",
       "      <td>98221</td>\n",
       "      <td>2011-07-27</td>\n",
       "      <td>2011-07-28</td>\n",
       "      <td>-47.6400</td>\n",
       "      <td>7</td>\n",
       "      <td>49.92</td>\n",
       "      <td>88523</td>\n",
       "    </tr>\n",
       "    <tr>\n",
       "      <th>3</th>\n",
       "      <td>23087</td>\n",
       "      <td>Not Specified</td>\n",
       "      <td>0.01</td>\n",
       "      <td>5.68</td>\n",
       "      <td>3.60</td>\n",
       "      <td>3</td>\n",
       "      <td>Bonnie Potter</td>\n",
       "      <td>Regular Air</td>\n",
       "      <td>Corporate</td>\n",
       "      <td>Office Supplies</td>\n",
       "      <td>...</td>\n",
       "      <td>West</td>\n",
       "      <td>Washington</td>\n",
       "      <td>Anacortes</td>\n",
       "      <td>98221</td>\n",
       "      <td>2011-07-27</td>\n",
       "      <td>2011-07-28</td>\n",
       "      <td>-30.5100</td>\n",
       "      <td>7</td>\n",
       "      <td>41.64</td>\n",
       "      <td>88523</td>\n",
       "    </tr>\n",
       "    <tr>\n",
       "      <th>4</th>\n",
       "      <td>23088</td>\n",
       "      <td>Not Specified</td>\n",
       "      <td>0.00</td>\n",
       "      <td>205.99</td>\n",
       "      <td>2.50</td>\n",
       "      <td>3</td>\n",
       "      <td>Bonnie Potter</td>\n",
       "      <td>Express Air</td>\n",
       "      <td>Corporate</td>\n",
       "      <td>Technology</td>\n",
       "      <td>...</td>\n",
       "      <td>West</td>\n",
       "      <td>Washington</td>\n",
       "      <td>Anacortes</td>\n",
       "      <td>98221</td>\n",
       "      <td>2011-07-27</td>\n",
       "      <td>2011-07-27</td>\n",
       "      <td>998.2023</td>\n",
       "      <td>8</td>\n",
       "      <td>1446.67</td>\n",
       "      <td>88523</td>\n",
       "    </tr>\n",
       "  </tbody>\n",
       "</table>\n",
       "<p>5 rows × 24 columns</p>\n",
       "</div>"
      ],
      "text/plain": [
       "   Row ID Order Priority  Discount  Unit Price  Shipping Cost  Customer ID  \\\n",
       "0   18606  Not Specified      0.01        2.88           0.50            2   \n",
       "1   20847           High      0.01        2.84           0.93            3   \n",
       "2   23086  Not Specified      0.03        6.68           6.15            3   \n",
       "3   23087  Not Specified      0.01        5.68           3.60            3   \n",
       "4   23088  Not Specified      0.00      205.99           2.50            3   \n",
       "\n",
       "     Customer Name    Ship Mode Customer Segment Product Category  ...  \\\n",
       "0  Janice Fletcher  Regular Air        Corporate  Office Supplies  ...   \n",
       "1    Bonnie Potter  Express Air        Corporate  Office Supplies  ...   \n",
       "2    Bonnie Potter  Express Air        Corporate  Office Supplies  ...   \n",
       "3    Bonnie Potter  Regular Air        Corporate  Office Supplies  ...   \n",
       "4    Bonnie Potter  Express Air        Corporate       Technology  ...   \n",
       "\n",
       "    Region State or Province       City  Postal Code Order Date  Ship Date  \\\n",
       "0  Central          Illinois    Addison        60101 2012-05-28 2012-05-30   \n",
       "1     West        Washington  Anacortes        98221 2010-07-07 2010-07-08   \n",
       "2     West        Washington  Anacortes        98221 2011-07-27 2011-07-28   \n",
       "3     West        Washington  Anacortes        98221 2011-07-27 2011-07-28   \n",
       "4     West        Washington  Anacortes        98221 2011-07-27 2011-07-27   \n",
       "\n",
       "     Profit  Quantity ordered new    Sales Order ID  \n",
       "0    1.3200                     2     5.90    88525  \n",
       "1    4.5600                     4    13.01    88522  \n",
       "2  -47.6400                     7    49.92    88523  \n",
       "3  -30.5100                     7    41.64    88523  \n",
       "4  998.2023                     8  1446.67    88523  \n",
       "\n",
       "[5 rows x 24 columns]"
      ]
     },
     "execution_count": 4,
     "metadata": {},
     "output_type": "execute_result"
    }
   ],
   "source": [
    "dataset.head()"
   ]
  },
  {
   "cell_type": "code",
   "execution_count": 5,
   "id": "41ee2b45",
   "metadata": {},
   "outputs": [
    {
     "name": "stdout",
     "output_type": "stream",
     "text": [
      "<class 'pandas.core.frame.DataFrame'>\n",
      "RangeIndex: 9426 entries, 0 to 9425\n",
      "Data columns (total 24 columns):\n",
      " #   Column                Non-Null Count  Dtype         \n",
      "---  ------                --------------  -----         \n",
      " 0   Row ID                9426 non-null   int64         \n",
      " 1   Order Priority        9426 non-null   object        \n",
      " 2   Discount              9426 non-null   float64       \n",
      " 3   Unit Price            9426 non-null   float64       \n",
      " 4   Shipping Cost         9426 non-null   float64       \n",
      " 5   Customer ID           9426 non-null   int64         \n",
      " 6   Customer Name         9426 non-null   object        \n",
      " 7   Ship Mode             9426 non-null   object        \n",
      " 8   Customer Segment      9426 non-null   object        \n",
      " 9   Product Category      9426 non-null   object        \n",
      " 10  Product Sub-Category  9426 non-null   object        \n",
      " 11  Product Container     9426 non-null   object        \n",
      " 12  Product Name          9426 non-null   object        \n",
      " 13  Product Base Margin   9354 non-null   float64       \n",
      " 14  Region                9426 non-null   object        \n",
      " 15  State or Province     9426 non-null   object        \n",
      " 16  City                  9426 non-null   object        \n",
      " 17  Postal Code           9426 non-null   int64         \n",
      " 18  Order Date            9426 non-null   datetime64[ns]\n",
      " 19  Ship Date             9426 non-null   datetime64[ns]\n",
      " 20  Profit                9426 non-null   float64       \n",
      " 21  Quantity ordered new  9426 non-null   int64         \n",
      " 22  Sales                 9426 non-null   float64       \n",
      " 23  Order ID              9426 non-null   int64         \n",
      "dtypes: datetime64[ns](2), float64(6), int64(5), object(11)\n",
      "memory usage: 1.7+ MB\n"
     ]
    }
   ],
   "source": [
    "dataset.info()"
   ]
  },
  {
   "cell_type": "code",
   "execution_count": 6,
   "id": "0e45aa4e",
   "metadata": {},
   "outputs": [
    {
     "data": {
      "text/html": [
       "<div>\n",
       "<style scoped>\n",
       "    .dataframe tbody tr th:only-of-type {\n",
       "        vertical-align: middle;\n",
       "    }\n",
       "\n",
       "    .dataframe tbody tr th {\n",
       "        vertical-align: top;\n",
       "    }\n",
       "\n",
       "    .dataframe thead th {\n",
       "        text-align: right;\n",
       "    }\n",
       "</style>\n",
       "<table border=\"1\" class=\"dataframe\">\n",
       "  <thead>\n",
       "    <tr style=\"text-align: right;\">\n",
       "      <th></th>\n",
       "      <th>Row ID</th>\n",
       "      <th>Discount</th>\n",
       "      <th>Unit Price</th>\n",
       "      <th>Shipping Cost</th>\n",
       "      <th>Customer ID</th>\n",
       "      <th>Product Base Margin</th>\n",
       "      <th>Postal Code</th>\n",
       "      <th>Order Date</th>\n",
       "      <th>Ship Date</th>\n",
       "      <th>Profit</th>\n",
       "      <th>Quantity ordered new</th>\n",
       "      <th>Sales</th>\n",
       "      <th>Order ID</th>\n",
       "    </tr>\n",
       "  </thead>\n",
       "  <tbody>\n",
       "    <tr>\n",
       "      <th>count</th>\n",
       "      <td>9426.000000</td>\n",
       "      <td>9426.000000</td>\n",
       "      <td>9426.000000</td>\n",
       "      <td>9426.000000</td>\n",
       "      <td>9426.000000</td>\n",
       "      <td>9354.000000</td>\n",
       "      <td>9426.000000</td>\n",
       "      <td>9426</td>\n",
       "      <td>9426</td>\n",
       "      <td>9426.000000</td>\n",
       "      <td>9426.000000</td>\n",
       "      <td>9426.000000</td>\n",
       "      <td>9426.000000</td>\n",
       "    </tr>\n",
       "    <tr>\n",
       "      <th>mean</th>\n",
       "      <td>20241.015277</td>\n",
       "      <td>0.049628</td>\n",
       "      <td>88.303686</td>\n",
       "      <td>12.795142</td>\n",
       "      <td>1738.422236</td>\n",
       "      <td>0.512189</td>\n",
       "      <td>52446.327286</td>\n",
       "      <td>2012-03-05 18:33:59.465308672</td>\n",
       "      <td>2012-03-07 19:16:18.485041408</td>\n",
       "      <td>139.236410</td>\n",
       "      <td>13.798430</td>\n",
       "      <td>949.706272</td>\n",
       "      <td>82318.489073</td>\n",
       "    </tr>\n",
       "    <tr>\n",
       "      <th>min</th>\n",
       "      <td>2.000000</td>\n",
       "      <td>0.000000</td>\n",
       "      <td>0.990000</td>\n",
       "      <td>0.490000</td>\n",
       "      <td>2.000000</td>\n",
       "      <td>0.350000</td>\n",
       "      <td>1001.000000</td>\n",
       "      <td>2010-01-01 00:00:00</td>\n",
       "      <td>2010-01-02 00:00:00</td>\n",
       "      <td>-16476.838000</td>\n",
       "      <td>1.000000</td>\n",
       "      <td>1.320000</td>\n",
       "      <td>6.000000</td>\n",
       "    </tr>\n",
       "    <tr>\n",
       "      <th>25%</th>\n",
       "      <td>19330.250000</td>\n",
       "      <td>0.020000</td>\n",
       "      <td>6.480000</td>\n",
       "      <td>3.192500</td>\n",
       "      <td>898.000000</td>\n",
       "      <td>0.380000</td>\n",
       "      <td>29406.000000</td>\n",
       "      <td>2011-03-07 06:00:00</td>\n",
       "      <td>2011-03-09 00:00:00</td>\n",
       "      <td>-74.017375</td>\n",
       "      <td>5.000000</td>\n",
       "      <td>61.282500</td>\n",
       "      <td>86737.250000</td>\n",
       "    </tr>\n",
       "    <tr>\n",
       "      <th>50%</th>\n",
       "      <td>21686.500000</td>\n",
       "      <td>0.050000</td>\n",
       "      <td>20.990000</td>\n",
       "      <td>6.050000</td>\n",
       "      <td>1750.000000</td>\n",
       "      <td>0.520000</td>\n",
       "      <td>52302.000000</td>\n",
       "      <td>2012-04-08 00:00:00</td>\n",
       "      <td>2012-04-09 00:00:00</td>\n",
       "      <td>2.567600</td>\n",
       "      <td>10.000000</td>\n",
       "      <td>203.455000</td>\n",
       "      <td>88344.500000</td>\n",
       "    </tr>\n",
       "    <tr>\n",
       "      <th>75%</th>\n",
       "      <td>24042.750000</td>\n",
       "      <td>0.080000</td>\n",
       "      <td>85.990000</td>\n",
       "      <td>13.990000</td>\n",
       "      <td>2578.750000</td>\n",
       "      <td>0.590000</td>\n",
       "      <td>78516.000000</td>\n",
       "      <td>2013-03-26 00:00:00</td>\n",
       "      <td>2013-03-28 00:00:00</td>\n",
       "      <td>140.243850</td>\n",
       "      <td>17.000000</td>\n",
       "      <td>776.402500</td>\n",
       "      <td>89987.750000</td>\n",
       "    </tr>\n",
       "    <tr>\n",
       "      <th>max</th>\n",
       "      <td>26399.000000</td>\n",
       "      <td>0.250000</td>\n",
       "      <td>6783.020000</td>\n",
       "      <td>164.730000</td>\n",
       "      <td>3403.000000</td>\n",
       "      <td>0.850000</td>\n",
       "      <td>99362.000000</td>\n",
       "      <td>2013-12-31 00:00:00</td>\n",
       "      <td>2014-01-17 00:00:00</td>\n",
       "      <td>16332.414000</td>\n",
       "      <td>170.000000</td>\n",
       "      <td>100119.160000</td>\n",
       "      <td>91591.000000</td>\n",
       "    </tr>\n",
       "    <tr>\n",
       "      <th>std</th>\n",
       "      <td>6101.890965</td>\n",
       "      <td>0.031798</td>\n",
       "      <td>281.540982</td>\n",
       "      <td>17.181203</td>\n",
       "      <td>979.167197</td>\n",
       "      <td>0.135229</td>\n",
       "      <td>29374.597802</td>\n",
       "      <td>NaN</td>\n",
       "      <td>NaN</td>\n",
       "      <td>998.486483</td>\n",
       "      <td>15.107688</td>\n",
       "      <td>2598.019818</td>\n",
       "      <td>19149.448857</td>\n",
       "    </tr>\n",
       "  </tbody>\n",
       "</table>\n",
       "</div>"
      ],
      "text/plain": [
       "             Row ID     Discount   Unit Price  Shipping Cost  Customer ID  \\\n",
       "count   9426.000000  9426.000000  9426.000000    9426.000000  9426.000000   \n",
       "mean   20241.015277     0.049628    88.303686      12.795142  1738.422236   \n",
       "min        2.000000     0.000000     0.990000       0.490000     2.000000   \n",
       "25%    19330.250000     0.020000     6.480000       3.192500   898.000000   \n",
       "50%    21686.500000     0.050000    20.990000       6.050000  1750.000000   \n",
       "75%    24042.750000     0.080000    85.990000      13.990000  2578.750000   \n",
       "max    26399.000000     0.250000  6783.020000     164.730000  3403.000000   \n",
       "std     6101.890965     0.031798   281.540982      17.181203   979.167197   \n",
       "\n",
       "       Product Base Margin   Postal Code                     Order Date  \\\n",
       "count          9354.000000   9426.000000                           9426   \n",
       "mean              0.512189  52446.327286  2012-03-05 18:33:59.465308672   \n",
       "min               0.350000   1001.000000            2010-01-01 00:00:00   \n",
       "25%               0.380000  29406.000000            2011-03-07 06:00:00   \n",
       "50%               0.520000  52302.000000            2012-04-08 00:00:00   \n",
       "75%               0.590000  78516.000000            2013-03-26 00:00:00   \n",
       "max               0.850000  99362.000000            2013-12-31 00:00:00   \n",
       "std               0.135229  29374.597802                            NaN   \n",
       "\n",
       "                           Ship Date        Profit  Quantity ordered new  \\\n",
       "count                           9426   9426.000000           9426.000000   \n",
       "mean   2012-03-07 19:16:18.485041408    139.236410             13.798430   \n",
       "min              2010-01-02 00:00:00 -16476.838000              1.000000   \n",
       "25%              2011-03-09 00:00:00    -74.017375              5.000000   \n",
       "50%              2012-04-09 00:00:00      2.567600             10.000000   \n",
       "75%              2013-03-28 00:00:00    140.243850             17.000000   \n",
       "max              2014-01-17 00:00:00  16332.414000            170.000000   \n",
       "std                              NaN    998.486483             15.107688   \n",
       "\n",
       "               Sales      Order ID  \n",
       "count    9426.000000   9426.000000  \n",
       "mean      949.706272  82318.489073  \n",
       "min         1.320000      6.000000  \n",
       "25%        61.282500  86737.250000  \n",
       "50%       203.455000  88344.500000  \n",
       "75%       776.402500  89987.750000  \n",
       "max    100119.160000  91591.000000  \n",
       "std      2598.019818  19149.448857  "
      ]
     },
     "execution_count": 6,
     "metadata": {},
     "output_type": "execute_result"
    }
   ],
   "source": [
    "dataset.describe()"
   ]
  },
  {
   "cell_type": "code",
   "execution_count": 7,
   "id": "87846c09",
   "metadata": {},
   "outputs": [
    {
     "data": {
      "text/plain": [
       "(9426, 24)"
      ]
     },
     "execution_count": 7,
     "metadata": {},
     "output_type": "execute_result"
    }
   ],
   "source": [
    "dataset.shape"
   ]
  },
  {
   "cell_type": "code",
   "execution_count": 8,
   "id": "62ef0c3d",
   "metadata": {},
   "outputs": [
    {
     "data": {
      "text/plain": [
       "226224"
      ]
     },
     "execution_count": 8,
     "metadata": {},
     "output_type": "execute_result"
    }
   ],
   "source": [
    "dataset.size"
   ]
  },
  {
   "cell_type": "code",
   "execution_count": 41,
   "id": "0b15acda",
   "metadata": {},
   "outputs": [],
   "source": [
    "## Top 2 of the data"
   ]
  },
  {
   "cell_type": "code",
   "execution_count": 9,
   "id": "c3b51dbd",
   "metadata": {},
   "outputs": [
    {
     "data": {
      "text/html": [
       "<div>\n",
       "<style scoped>\n",
       "    .dataframe tbody tr th:only-of-type {\n",
       "        vertical-align: middle;\n",
       "    }\n",
       "\n",
       "    .dataframe tbody tr th {\n",
       "        vertical-align: top;\n",
       "    }\n",
       "\n",
       "    .dataframe thead th {\n",
       "        text-align: right;\n",
       "    }\n",
       "</style>\n",
       "<table border=\"1\" class=\"dataframe\">\n",
       "  <thead>\n",
       "    <tr style=\"text-align: right;\">\n",
       "      <th></th>\n",
       "      <th>Row ID</th>\n",
       "      <th>Order Priority</th>\n",
       "      <th>Discount</th>\n",
       "      <th>Unit Price</th>\n",
       "      <th>Shipping Cost</th>\n",
       "      <th>Customer ID</th>\n",
       "      <th>Customer Name</th>\n",
       "      <th>Ship Mode</th>\n",
       "      <th>Customer Segment</th>\n",
       "      <th>Product Category</th>\n",
       "      <th>...</th>\n",
       "      <th>Region</th>\n",
       "      <th>State or Province</th>\n",
       "      <th>City</th>\n",
       "      <th>Postal Code</th>\n",
       "      <th>Order Date</th>\n",
       "      <th>Ship Date</th>\n",
       "      <th>Profit</th>\n",
       "      <th>Quantity ordered new</th>\n",
       "      <th>Sales</th>\n",
       "      <th>Order ID</th>\n",
       "    </tr>\n",
       "  </thead>\n",
       "  <tbody>\n",
       "    <tr>\n",
       "      <th>0</th>\n",
       "      <td>18606</td>\n",
       "      <td>Not Specified</td>\n",
       "      <td>0.01</td>\n",
       "      <td>2.88</td>\n",
       "      <td>0.50</td>\n",
       "      <td>2</td>\n",
       "      <td>Janice Fletcher</td>\n",
       "      <td>Regular Air</td>\n",
       "      <td>Corporate</td>\n",
       "      <td>Office Supplies</td>\n",
       "      <td>...</td>\n",
       "      <td>Central</td>\n",
       "      <td>Illinois</td>\n",
       "      <td>Addison</td>\n",
       "      <td>60101</td>\n",
       "      <td>2012-05-28</td>\n",
       "      <td>2012-05-30</td>\n",
       "      <td>1.32</td>\n",
       "      <td>2</td>\n",
       "      <td>5.90</td>\n",
       "      <td>88525</td>\n",
       "    </tr>\n",
       "    <tr>\n",
       "      <th>1</th>\n",
       "      <td>20847</td>\n",
       "      <td>High</td>\n",
       "      <td>0.01</td>\n",
       "      <td>2.84</td>\n",
       "      <td>0.93</td>\n",
       "      <td>3</td>\n",
       "      <td>Bonnie Potter</td>\n",
       "      <td>Express Air</td>\n",
       "      <td>Corporate</td>\n",
       "      <td>Office Supplies</td>\n",
       "      <td>...</td>\n",
       "      <td>West</td>\n",
       "      <td>Washington</td>\n",
       "      <td>Anacortes</td>\n",
       "      <td>98221</td>\n",
       "      <td>2010-07-07</td>\n",
       "      <td>2010-07-08</td>\n",
       "      <td>4.56</td>\n",
       "      <td>4</td>\n",
       "      <td>13.01</td>\n",
       "      <td>88522</td>\n",
       "    </tr>\n",
       "  </tbody>\n",
       "</table>\n",
       "<p>2 rows × 24 columns</p>\n",
       "</div>"
      ],
      "text/plain": [
       "   Row ID Order Priority  Discount  Unit Price  Shipping Cost  Customer ID  \\\n",
       "0   18606  Not Specified      0.01        2.88           0.50            2   \n",
       "1   20847           High      0.01        2.84           0.93            3   \n",
       "\n",
       "     Customer Name    Ship Mode Customer Segment Product Category  ...  \\\n",
       "0  Janice Fletcher  Regular Air        Corporate  Office Supplies  ...   \n",
       "1    Bonnie Potter  Express Air        Corporate  Office Supplies  ...   \n",
       "\n",
       "    Region State or Province       City  Postal Code Order Date  Ship Date  \\\n",
       "0  Central          Illinois    Addison        60101 2012-05-28 2012-05-30   \n",
       "1     West        Washington  Anacortes        98221 2010-07-07 2010-07-08   \n",
       "\n",
       "  Profit  Quantity ordered new  Sales Order ID  \n",
       "0   1.32                     2   5.90    88525  \n",
       "1   4.56                     4  13.01    88522  \n",
       "\n",
       "[2 rows x 24 columns]"
      ]
     },
     "execution_count": 9,
     "metadata": {},
     "output_type": "execute_result"
    }
   ],
   "source": [
    "dataset.head(2)"
   ]
  },
  {
   "cell_type": "code",
   "execution_count": null,
   "id": "baf56d7e",
   "metadata": {},
   "outputs": [],
   "source": [
    "## columns of data\n"
   ]
  },
  {
   "cell_type": "code",
   "execution_count": 10,
   "id": "93b3485b",
   "metadata": {
    "scrolled": true
   },
   "outputs": [
    {
     "data": {
      "text/plain": [
       "Index(['Row ID', 'Order Priority', 'Discount', 'Unit Price', 'Shipping Cost',\n",
       "       'Customer ID', 'Customer Name', 'Ship Mode', 'Customer Segment',\n",
       "       'Product Category', 'Product Sub-Category', 'Product Container',\n",
       "       'Product Name', 'Product Base Margin', 'Region', 'State or Province',\n",
       "       'City', 'Postal Code', 'Order Date', 'Ship Date', 'Profit',\n",
       "       'Quantity ordered new', 'Sales', 'Order ID'],\n",
       "      dtype='object')"
      ]
     },
     "execution_count": 10,
     "metadata": {},
     "output_type": "execute_result"
    }
   ],
   "source": [
    "dataset.columns"
   ]
  },
  {
   "cell_type": "markdown",
   "id": "06a45ab7",
   "metadata": {},
   "source": [
    "# Missing value analysis"
   ]
  },
  {
   "cell_type": "code",
   "execution_count": 11,
   "id": "b064785d",
   "metadata": {},
   "outputs": [
    {
     "data": {
      "text/plain": [
       "Row ID                   0\n",
       "Order Priority           0\n",
       "Discount                 0\n",
       "Unit Price               0\n",
       "Shipping Cost            0\n",
       "Customer ID              0\n",
       "Customer Name            0\n",
       "Ship Mode                0\n",
       "Customer Segment         0\n",
       "Product Category         0\n",
       "Product Sub-Category     0\n",
       "Product Container        0\n",
       "Product Name             0\n",
       "Product Base Margin     72\n",
       "Region                   0\n",
       "State or Province        0\n",
       "City                     0\n",
       "Postal Code              0\n",
       "Order Date               0\n",
       "Ship Date                0\n",
       "Profit                   0\n",
       "Quantity ordered new     0\n",
       "Sales                    0\n",
       "Order ID                 0\n",
       "dtype: int64"
      ]
     },
     "execution_count": 11,
     "metadata": {},
     "output_type": "execute_result"
    }
   ],
   "source": [
    "dataset.isnull().sum()"
   ]
  },
  {
   "cell_type": "markdown",
   "id": "209ee065",
   "metadata": {},
   "source": [
    "# fill with mean(), median()"
   ]
  },
  {
   "cell_type": "code",
   "execution_count": 12,
   "id": "ae413e6e",
   "metadata": {},
   "outputs": [],
   "source": [
    "dataset['Product Base Margin'].fillna(dataset['Product Base Margin'].mean(),inplace=True)"
   ]
  },
  {
   "cell_type": "code",
   "execution_count": 14,
   "id": "b568d82e",
   "metadata": {
    "scrolled": true
   },
   "outputs": [
    {
     "data": {
      "text/plain": [
       "Row ID                  0\n",
       "Order Priority          0\n",
       "Discount                0\n",
       "Unit Price              0\n",
       "Shipping Cost           0\n",
       "Customer ID             0\n",
       "Customer Name           0\n",
       "Ship Mode               0\n",
       "Customer Segment        0\n",
       "Product Category        0\n",
       "Product Sub-Category    0\n",
       "Product Container       0\n",
       "Product Name            0\n",
       "Product Base Margin     0\n",
       "Region                  0\n",
       "State or Province       0\n",
       "City                    0\n",
       "Postal Code             0\n",
       "Order Date              0\n",
       "Ship Date               0\n",
       "Profit                  0\n",
       "Quantity ordered new    0\n",
       "Sales                   0\n",
       "Order ID                0\n",
       "dtype: int64"
      ]
     },
     "execution_count": 14,
     "metadata": {},
     "output_type": "execute_result"
    }
   ],
   "source": [
    "dataset.isnull().sum()"
   ]
  },
  {
   "cell_type": "code",
   "execution_count": 42,
   "id": "c7bf046a",
   "metadata": {},
   "outputs": [],
   "source": [
    "#univariate analysis\n"
   ]
  },
  {
   "cell_type": "code",
   "execution_count": 15,
   "id": "e8f3f883",
   "metadata": {},
   "outputs": [
    {
     "data": {
      "text/plain": [
       "(9426, 24)"
      ]
     },
     "execution_count": 15,
     "metadata": {},
     "output_type": "execute_result"
    }
   ],
   "source": [
    "dataset.shape"
   ]
  },
  {
   "cell_type": "markdown",
   "id": "2ce274e8",
   "metadata": {},
   "source": [
    "# Order priority"
   ]
  },
  {
   "cell_type": "code",
   "execution_count": 16,
   "id": "5e5b77b8",
   "metadata": {},
   "outputs": [
    {
     "data": {
      "text/plain": [
       "Order Priority\n",
       "High             1970\n",
       "Low              1926\n",
       "Not Specified    1881\n",
       "Medium           1844\n",
       "Critical         1804\n",
       "Critical            1\n",
       "Name: count, dtype: int64"
      ]
     },
     "execution_count": 16,
     "metadata": {},
     "output_type": "execute_result"
    }
   ],
   "source": [
    "dataset['Order Priority'].value_counts()"
   ]
  },
  {
   "cell_type": "code",
   "execution_count": 17,
   "id": "8a54bfbc",
   "metadata": {},
   "outputs": [
    {
     "data": {
      "text/plain": [
       "array(['Not Specified', 'High', 'Medium', 'Low', 'Critical', 'Critical '],\n",
       "      dtype=object)"
      ]
     },
     "execution_count": 17,
     "metadata": {},
     "output_type": "execute_result"
    }
   ],
   "source": [
    "dataset['Order Priority'].unique()"
   ]
  },
  {
   "cell_type": "code",
   "execution_count": 18,
   "id": "5d263679",
   "metadata": {},
   "outputs": [],
   "source": [
    "dataset['Order Priority']=dataset['Order Priority'].replace('Critical ','Critical')"
   ]
  },
  {
   "cell_type": "code",
   "execution_count": 19,
   "id": "f03f4b0e",
   "metadata": {},
   "outputs": [
    {
     "data": {
      "text/plain": [
       "Order Priority\n",
       "High             1970\n",
       "Low              1926\n",
       "Not Specified    1881\n",
       "Medium           1844\n",
       "Critical         1805\n",
       "Name: count, dtype: int64"
      ]
     },
     "execution_count": 19,
     "metadata": {},
     "output_type": "execute_result"
    }
   ],
   "source": [
    "dataset['Order Priority'].value_counts()"
   ]
  },
  {
   "cell_type": "code",
   "execution_count": 21,
   "id": "a3cca926",
   "metadata": {},
   "outputs": [],
   "source": [
    "import matplotlib.pyplot as plt"
   ]
  },
  {
   "cell_type": "code",
   "execution_count": 22,
   "id": "c0081e99",
   "metadata": {
    "scrolled": true
   },
   "outputs": [
    {
     "data": {
      "image/png": "[encoded data removed]",
      "text/plain": [
       "<Figure size 500x400 with 1 Axes>"
      ]
     },
     "metadata": {},
     "output_type": "display_data"
    }
   ],
   "source": [
    "plt.figure(figsize=(5,4))\n",
    "sns.countplot(x='Order Priority', data=dataset)\n",
    "plt.title('Count of Order Priority')\n",
    "plt.savefig('Count of Order Priority')\n",
    "plt.show()"
   ]
  },
  {
   "cell_type": "markdown",
   "id": "b75c140b",
   "metadata": {},
   "source": [
    "# Ship mode"
   ]
  },
  {
   "cell_type": "code",
   "execution_count": 24,
   "id": "b2e67a84",
   "metadata": {},
   "outputs": [
    {
     "data": {
      "text/plain": [
       "Ship Mode\n",
       "Regular Air       7036\n",
       "Delivery Truck    1283\n",
       "Express Air       1107\n",
       "Name: count, dtype: int64"
      ]
     },
     "execution_count": 24,
     "metadata": {},
     "output_type": "execute_result"
    }
   ],
   "source": [
    "dataset['Ship Mode'].value_counts()"
   ]
  },
  {
   "cell_type": "code",
   "execution_count": 25,
   "id": "21bcb1df",
   "metadata": {},
   "outputs": [],
   "source": [
    "x=dataset['Ship Mode'].value_counts().index\n",
    "y=dataset['Ship Mode'].value_counts().values"
   ]
  },
  {
   "cell_type": "code",
   "execution_count": 26,
   "id": "1afdfd06",
   "metadata": {
    "scrolled": true
   },
   "outputs": [
    {
     "data": {
      "image/png": "[encoded data removed]",
      "text/plain": [
       "<Figure size 500x400 with 1 Axes>"
      ]
     },
     "metadata": {},
     "output_type": "display_data"
    }
   ],
   "source": [
    "plt.figure(figsize=(5,4))\n",
    "plt.pie(y,labels=x,startangle=60,autopct=\"%0.2f%%\")\n",
    "plt.legend(loc=3)\n",
    "plt.title('Type of Ship Mode')\n",
    "plt.savefig('Type of Ship Mode')\n",
    "plt.show()"
   ]
  },
  {
   "cell_type": "code",
   "execution_count": null,
   "id": "ca688832",
   "metadata": {},
   "outputs": [],
   "source": [
    "# bivariate analysis"
   ]
  },
  {
   "cell_type": "markdown",
   "id": "9eadfa12",
   "metadata": {},
   "source": [
    "# Product category and shipping mode"
   ]
  },
  {
   "cell_type": "code",
   "execution_count": 27,
   "id": "db206ca1",
   "metadata": {
    "scrolled": true
   },
   "outputs": [
    {
     "data": {
      "image/png": "[encoded data removed]",
      "text/plain": [
       "<Figure size 1000x400 with 1 Axes>"
      ]
     },
     "metadata": {},
     "output_type": "display_data"
    }
   ],
   "source": [
    "plt.figure(figsize=(10,4))\n",
    "sns.countplot(x=\"Ship Mode\",data=dataset, hue='Product Category')\n",
    "plt.show()"
   ]
  },
  {
   "cell_type": "markdown",
   "id": "c76bf602",
   "metadata": {},
   "source": [
    "# Customer segment"
   ]
  },
  {
   "cell_type": "code",
   "execution_count": 28,
   "id": "68445f23",
   "metadata": {
    "scrolled": true
   },
   "outputs": [
    {
     "data": {
      "image/png": "[encoded data removed]",
      "text/plain": [
       "<Figure size 600x400 with 1 Axes>"
      ]
     },
     "metadata": {},
     "output_type": "display_data"
    }
   ],
   "source": [
    "plt.figure(figsize=(6,4))\n",
    "sns.countplot(x='Customer Segment', data= dataset)\n",
    "plt.show()"
   ]
  },
  {
   "cell_type": "code",
   "execution_count": 29,
   "id": "220a1872",
   "metadata": {},
   "outputs": [
    {
     "data": {
      "image/png": "[encoded data removed]",
      "text/plain": [
       "<Figure size 600x400 with 1 Axes>"
      ]
     },
     "metadata": {},
     "output_type": "display_data"
    }
   ],
   "source": [
    "plt.figure(figsize=(6,4))\n",
    "sns.countplot(x='Product Category', data= dataset)\n",
    "plt.show()"
   ]
  },
  {
   "cell_type": "markdown",
   "id": "f5c54608",
   "metadata": {},
   "source": [
    "# Product category"
   ]
  },
  {
   "cell_type": "code",
   "execution_count": 30,
   "id": "8dd6ef90",
   "metadata": {
    "scrolled": true
   },
   "outputs": [
    {
     "data": {
      "image/png": "[encoded data removed]",
      "text/plain": [
       "<Figure size 1000x600 with 1 Axes>"
      ]
     },
     "metadata": {},
     "output_type": "display_data"
    }
   ],
   "source": [
    "plt.figure(figsize=(10,6))\n",
    "sns.countplot(x='Product Category', data= dataset[dataset['Product Category']=='Office Supplies'],hue='Product Sub-Category')\n",
    "plt.show()"
   ]
  },
  {
   "cell_type": "markdown",
   "id": "f863e75e",
   "metadata": {},
   "source": [
    "# Order Year"
   ]
  },
  {
   "cell_type": "code",
   "execution_count": 34,
   "id": "bfb49cc6",
   "metadata": {
    "scrolled": false
   },
   "outputs": [
    {
     "data": {
      "text/plain": [
       "Order Date\n",
       "2013-07-21    24\n",
       "2013-03-28    23\n",
       "2012-09-15    23\n",
       "2013-07-09    22\n",
       "2012-06-22    21\n",
       "              ..\n",
       "2010-12-31     1\n",
       "2010-03-07     1\n",
       "2010-07-25     1\n",
       "2012-09-21     1\n",
       "2013-05-15     1\n",
       "Name: count, Length: 1419, dtype: int64"
      ]
     },
     "execution_count": 34,
     "metadata": {},
     "output_type": "execute_result"
    }
   ],
   "source": [
    "dataset['Order Date'].value_counts()"
   ]
  },
  {
   "cell_type": "code",
   "execution_count": 32,
   "id": "29e71877",
   "metadata": {},
   "outputs": [],
   "source": [
    "dataset['Order Year']=dataset['Order Date'].dt.year"
   ]
  },
  {
   "cell_type": "code",
   "execution_count": 33,
   "id": "d1397abe",
   "metadata": {},
   "outputs": [
    {
     "data": {
      "text/plain": [
       "0      2012-05-28\n",
       "1      2010-07-07\n",
       "2      2011-07-27\n",
       "3      2011-07-27\n",
       "4      2011-07-27\n",
       "          ...    \n",
       "9421   2013-05-14\n",
       "9422   2013-05-14\n",
       "9423   2013-09-12\n",
       "9424   2010-02-08\n",
       "9425   2013-09-12\n",
       "Name: Order Date, Length: 9426, dtype: datetime64[ns]"
      ]
     },
     "execution_count": 33,
     "metadata": {},
     "output_type": "execute_result"
    }
   ],
   "source": [
    "dataset['Order Date']"
   ]
  },
  {
   "cell_type": "code",
   "execution_count": 35,
   "id": "db4970b3",
   "metadata": {},
   "outputs": [
    {
     "name": "stdout",
     "output_type": "stream",
     "text": [
      "<class 'pandas.core.frame.DataFrame'>\n",
      "RangeIndex: 9426 entries, 0 to 9425\n",
      "Data columns (total 25 columns):\n",
      " #   Column                Non-Null Count  Dtype         \n",
      "---  ------                --------------  -----         \n",
      " 0   Row ID                9426 non-null   int64         \n",
      " 1   Order Priority        9426 non-null   object        \n",
      " 2   Discount              9426 non-null   float64       \n",
      " 3   Unit Price            9426 non-null   float64       \n",
      " 4   Shipping Cost         9426 non-null   float64       \n",
      " 5   Customer ID           9426 non-null   int64         \n",
      " 6   Customer Name         9426 non-null   object        \n",
      " 7   Ship Mode             9426 non-null   object        \n",
      " 8   Customer Segment      9426 non-null   object        \n",
      " 9   Product Category      9426 non-null   object        \n",
      " 10  Product Sub-Category  9426 non-null   object        \n",
      " 11  Product Container     9426 non-null   object        \n",
      " 12  Product Name          9426 non-null   object        \n",
      " 13  Product Base Margin   9426 non-null   float64       \n",
      " 14  Region                9426 non-null   object        \n",
      " 15  State or Province     9426 non-null   object        \n",
      " 16  City                  9426 non-null   object        \n",
      " 17  Postal Code           9426 non-null   int64         \n",
      " 18  Order Date            9426 non-null   datetime64[ns]\n",
      " 19  Ship Date             9426 non-null   datetime64[ns]\n",
      " 20  Profit                9426 non-null   float64       \n",
      " 21  Quantity ordered new  9426 non-null   int64         \n",
      " 22  Sales                 9426 non-null   float64       \n",
      " 23  Order ID              9426 non-null   int64         \n",
      " 24  Order Year            9426 non-null   int32         \n",
      "dtypes: datetime64[ns](2), float64(6), int32(1), int64(5), object(11)\n",
      "memory usage: 1.8+ MB\n"
     ]
    }
   ],
   "source": [
    "dataset.info()"
   ]
  },
  {
   "cell_type": "code",
   "execution_count": 36,
   "id": "b9865978",
   "metadata": {
    "scrolled": true
   },
   "outputs": [
    {
     "data": {
      "text/plain": [
       "Order Year\n",
       "2013    3054\n",
       "2012    2241\n",
       "2011    2179\n",
       "2010    1952\n",
       "Name: count, dtype: int64"
      ]
     },
     "execution_count": 36,
     "metadata": {},
     "output_type": "execute_result"
    }
   ],
   "source": [
    "dataset['Order Year'].value_counts()"
   ]
  },
  {
   "cell_type": "markdown",
   "id": "33108350",
   "metadata": {},
   "source": [
    "# Count of orders with years"
   ]
  },
  {
   "cell_type": "code",
   "execution_count": 37,
   "id": "4e95e09a",
   "metadata": {
    "scrolled": true
   },
   "outputs": [
    {
     "data": {
      "image/png": "[encoded data removed]",
      "text/plain": [
       "<Figure size 600x400 with 1 Axes>"
      ]
     },
     "metadata": {},
     "output_type": "display_data"
    }
   ],
   "source": [
    "plt.figure(figsize=(6,4))\n",
    "sns.countplot(x='Order Year', data= dataset)\n",
    "plt.show()"
   ]
  },
  {
   "cell_type": "markdown",
   "id": "d086c8b9",
   "metadata": {},
   "source": [
    "# product category Vs profit analysis"
   ]
  },
  {
   "cell_type": "code",
   "execution_count": 38,
   "id": "e4a8ec96",
   "metadata": {},
   "outputs": [
    {
     "data": {
      "image/png": "[encoded data removed]",
      "text/plain": [
       "<Figure size 640x480 with 1 Axes>"
      ]
     },
     "metadata": {},
     "output_type": "display_data"
    }
   ],
   "source": [
    "sns.barplot(x=\"Product Category\",y=\"Profit\", data=dataset,estimator='sum')\n",
    "plt.show()"
   ]
  },
  {
   "cell_type": "markdown",
   "id": "1d28eb5a",
   "metadata": {},
   "source": [
    "# Top 5 states with top sales"
   ]
  },
  {
   "cell_type": "code",
   "execution_count": 39,
   "id": "30d71c73",
   "metadata": {},
   "outputs": [
    {
     "data": {
      "text/plain": [
       "State or Province\n",
       "California    1021\n",
       "Texas          646\n",
       "Illinois       584\n",
       "New York       574\n",
       "Florida        522\n",
       "Name: count, dtype: int64"
      ]
     },
     "execution_count": 39,
     "metadata": {},
     "output_type": "execute_result"
    }
   ],
   "source": [
    "dataset['State or Province'].value_counts()[:5]"
   ]
  },
  {
   "cell_type": "markdown",
   "id": "839b6b98",
   "metadata": {},
   "source": [
    "# Product base margin on the category"
   ]
  },
  {
   "cell_type": "code",
   "execution_count": 40,
   "id": "00543594",
   "metadata": {},
   "outputs": [
    {
     "data": {
      "image/png": "[encoded data removed]",
      "text/plain": [
       "<Figure size 600x400 with 1 Axes>"
      ]
     },
     "metadata": {},
     "output_type": "display_data"
    }
   ],
   "source": [
    "plt.figure(figsize=(6,4))\n",
    "sns.barplot(x='Product Category', y='Product Base Margin',data=dataset,estimator='sum')\n",
    "plt.show()"
   ]
  },
  {
   "cell_type": "code",
   "execution_count": null,
   "id": "ec592c3d",
   "metadata": {},
   "outputs": [],
   "source": []
  }
 ],
 "metadata": {
  "kernelspec": {
   "display_name": "Python 3 (ipykernel)",
   "language": "python",
   "name": "python3"
  },
  "language_info": {
   "codemirror_mode": {
    "name": "ipython",
    "version": 3
   },
   "file_extension": ".py",
   "mimetype": "text/x-python",
   "name": "python",
   "nbconvert_exporter": "python",
   "pygments_lexer": "ipython3",
   "version": "3.11.5"
  }
 },
 "nbformat": 4,
 "nbformat_minor": 5
}
